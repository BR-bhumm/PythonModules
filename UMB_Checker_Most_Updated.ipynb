{
 "cells": [
  {
   "cell_type": "code",
   "execution_count": 152,
   "id": "d753cb50",
   "metadata": {},
   "outputs": [],
   "source": [
    "import numpy as np\n",
    "import pandas as pd\n",
    "import primer3\n",
    "import itertools"
   ]
  },
  {
   "cell_type": "code",
   "execution_count": 212,
   "id": "95c55ab9",
   "metadata": {},
   "outputs": [],
   "source": [
    "def TagAndPrimerProcessor(path1):\n",
    " \n",
    "    \n",
    "    csv = pd.read_csv(str(path1), header = None)\n",
    "    \n",
    "    tags = pd.Series(csv[1].values,index=csv[0]).to_dict()\n",
    "    tags = {k: v for k, v in tags.items() if k == k}\n",
    "    \n",
    "    primers = pd.Series(csv[3].values,index=csv[2]).to_dict()\n",
    "    primers = {k: v for k, v in primers.items() if k == k}\n",
    "    \n",
    "    return tags, primers\n",
    "\n",
    "def probe_appender(primer_list, tag_list):\n",
    "    key_list = []\n",
    "    for primer in primer_list:\n",
    "        for tag in tag_list:\n",
    "            result = tag + primer\n",
    "            key_list.append(result)\n",
    "    value_list = []        \n",
    "    for primer in primer_list.values():\n",
    "        for tag in tag_list.values():\n",
    "            result = tag + primer\n",
    "            value_list.append(result)\n",
    "    probe_dict = dict(zip(key_list, value_list))\n",
    "    return probe_dict\n",
    "\n",
    "[tag, primer] = TagAndPrimerProcessor('/Users/blake/Desktop/Book1.csv')\n",
    "z = probe_appender(primer, tag)\n",
    "\n",
    "TmDict = {}\n",
    "TmDictVal = {}\n",
    "for key, probe in z.items():\n",
    "    TmDict.update({key : primer3.bindings.calcTm(probe, mv_conc=50, dv_conc=1.5, dntp_conc=0.6)})\n",
    "for key, value in TmDict.items():\n",
    "    if (value >= 64 and value <= 68):\n",
    "        TmDictVal[key] = 1\n",
    "    else:\n",
    "        TmDictVal[key] = 0\n",
    "\n",
    "HairpinDict = {}  \n",
    "HairpinDictVal = {}\n",
    "for key, probe in z.items():\n",
    "    hps = {key : primer3.bindings.calcHairpin(probe, output_structure = True)}\n",
    "    for key, value in hps.items():\n",
    "        HairpinDict.update({key : value.structure_found})\n",
    "        \n",
    "for key, val in HairpinDict.items(): \n",
    "       \n",
    "    if val == True: \n",
    "        HairpinDictVal[key] = 0\n",
    "    elif val == False:\n",
    "        HairpinDictVal[key] = 1\n",
    "\n",
    "\n",
    "DimerDict = {}        \n",
    "DimerDictVal = {}\n",
    "DimerStrucs = {}\n",
    "DimerStrucsCount = {}\n",
    "DimerStrucsVal = {}\n",
    "for i, j in itertools.combinations_with_replacement(z, 2):\n",
    "    dimers = {i + ' + ' + j : primer3.bindings.calcHeterodimer(i, j, output_structure = True)}\n",
    "    for key, value in dimers.items():\n",
    "        DimerDict.update({key : value.structure_found})\n",
    "\n",
    "# This may not be needed        \n",
    "    for key, value in dimers.items():\n",
    "        DimerStrucs.update({key : value.ascii_structure_lines})\n",
    "\n",
    "# Below is needed        \n",
    "    for key, val in dimers.items():\n",
    "        DimerStrucsCount.update({key : sum(val.ascii_structure_lines[1].count(i) for i in 'ATCG') > 5})\n",
    "\n",
    "# This for loop may not be needed either      \n",
    "for key, val in DimerDict.items(): \n",
    "       \n",
    "    if val == True: \n",
    "        DimerDictVal[key] = 0\n",
    "    elif val == False:\n",
    "        DimerDictVal[key] = 1\n",
    "        \n",
    "for key, val in DimerStrucsCount.items(): \n",
    "       \n",
    "    if val == True: \n",
    "        DimerStrucsVal[key] = 0\n",
    "    elif val == False:\n",
    "        DimerStrucsVal[key] = 1\n",
    "        \n",
    "CompatibilityTable = pd.DataFrame.from_dict(TmDict, orient='index')\n",
    "CompatibilityTable.rename(columns={0:'Tm'}, inplace = True)\n",
    "CompatibilityTable['Sequence'] = pd.DataFrame.from_dict(z, orient='index')\n",
    "CompatibilityTable['Hairpin'] = pd.DataFrame.from_dict(HairpinDict, orient = 'index') \n",
    "CompatibilityTable['Tm_Score'] = pd.DataFrame.from_dict(TmDictVal, orient = 'index')\n",
    "CompatibilityTable['Hairpin_Score'] = pd.DataFrame.from_dict(HairpinDictVal, orient = 'index')\n",
    "CompatibilityTable['Total']= CompatibilityTable.iloc[:, 3:5].sum(axis = 1)\n",
    "\n",
    "DimerTable = pd.DataFrame.from_dict(DimerDict, orient='index')\n",
    "DimerTable.rename(columns = {0:'Dimer'}, inplace = True)\n",
    "DimerTable['Greater_than_5_bases?'] = pd.DataFrame.from_dict(DimerStrucsCount, orient ='index')\n",
    "# DimerTable['Dimer_Score'] = pd.DataFrame.from_dict(DimerDictVal, orient = 'index')\n",
    "DimerTable['Dimer_Score'] = pd.DataFrame.from_dict(DimerStrucsVal, orient = 'index')"
   ]
  },
  {
   "cell_type": "code",
   "execution_count": 205,
   "id": "59302881",
   "metadata": {},
   "outputs": [
    {
     "data": {
      "text/plain": [
       "{'tag1primer1 + tag1primer1': ['SEQ\\t     TA  PRIMER1',\n",
       "  'SEQ\\t       G1       ',\n",
       "  'STR\\t       1G       ',\n",
       "  'STR\\t1REMIRP  AT-----'],\n",
       " 'tag1primer1 + tag2primer1': ['SEQ\\t     TAG PRIMER1',\n",
       "  'SEQ\\t        1       ',\n",
       "  'STR\\t        G       ',\n",
       "  'STR\\t1REMIRP2 AT-----'],\n",
       " 'tag1primer1 + tag1primer2': ['SEQ\\t     TA  PRIMER1',\n",
       "  'SEQ\\t       G1       ',\n",
       "  'STR\\t       1G       ',\n",
       "  'STR\\t2REMIRP  AT-----'],\n",
       " 'tag1primer1 + tag2primer2': ['SEQ\\t     TAG PRIMER1',\n",
       "  'SEQ\\t        1       ',\n",
       "  'STR\\t        G       ',\n",
       "  'STR\\t2REMIRP2 AT-----'],\n",
       " 'tag1primer1 + tag1primer3': ['SEQ\\t     TA  PRIMER1',\n",
       "  'SEQ\\t       G1       ',\n",
       "  'STR\\t       1G       ',\n",
       "  'STR\\t3REMIRP  AT-----'],\n",
       " 'tag1primer1 + tag2primer3': ['SEQ\\t     TAG PRIMER1',\n",
       "  'SEQ\\t        1       ',\n",
       "  'STR\\t        G       ',\n",
       "  'STR\\t3REMIRP2 AT-----'],\n",
       " 'tag2primer1 + tag2primer1': ['SEQ\\tTA 2PRIMER1--',\n",
       "  'SEQ\\t  G          ',\n",
       "  'STR\\t  1          ',\n",
       "  'STR\\t   REMIRP2GAT'],\n",
       " 'tag2primer1 + tag1primer2': ['SEQ\\t     TA 2PRIMER1',\n",
       "  'SEQ\\t       G        ',\n",
       "  'STR\\t       1        ',\n",
       "  'STR\\t2REMIRP GAT-----'],\n",
       " 'tag2primer1 + tag2primer2': ['SEQ\\tTAG2PRIMER --',\n",
       "  'SEQ\\t          1  ',\n",
       "  'STR\\t          G  ',\n",
       "  'STR\\t  2REMIRP2 AT'],\n",
       " 'tag2primer1 + tag1primer3': ['SEQ\\t     TA 2PRIMER1',\n",
       "  'SEQ\\t       G        ',\n",
       "  'STR\\t       1        ',\n",
       "  'STR\\t3REMIRP GAT-----'],\n",
       " 'tag2primer1 + tag2primer3': ['SEQ\\tTAG2PRIMER --',\n",
       "  'SEQ\\t          1  ',\n",
       "  'STR\\t          G  ',\n",
       "  'STR\\t  3REMIRP2 AT'],\n",
       " 'tag1primer2 + tag1primer2': ['SEQ\\t     TA  PRIMER2',\n",
       "  'SEQ\\t       G1       ',\n",
       "  'STR\\t       1G       ',\n",
       "  'STR\\t2REMIRP  AT-----'],\n",
       " 'tag1primer2 + tag2primer2': ['SEQ\\t     TAG PRIMER2',\n",
       "  'SEQ\\t        1       ',\n",
       "  'STR\\t        G       ',\n",
       "  'STR\\t2REMIRP2 AT-----'],\n",
       " 'tag1primer2 + tag1primer3': ['SEQ\\t     TA  PRIMER2',\n",
       "  'SEQ\\t       G1       ',\n",
       "  'STR\\t       1G       ',\n",
       "  'STR\\t3REMIRP  AT-----'],\n",
       " 'tag1primer2 + tag2primer3': ['SEQ\\t     TAG PRIMER2',\n",
       "  'SEQ\\t        1       ',\n",
       "  'STR\\t        G       ',\n",
       "  'STR\\t3REMIRP2 AT-----'],\n",
       " 'tag2primer2 + tag2primer2': ['SEQ\\t           G2PRIMER2',\n",
       "  'SEQ\\t         TA         ',\n",
       "  'STR\\t         AT         ',\n",
       "  'STR\\t2REMIRP2G  ---------'],\n",
       " 'tag2primer2 + tag1primer3': ['SEQ\\t     TA 2PRIMER2',\n",
       "  'SEQ\\t       G        ',\n",
       "  'STR\\t       1        ',\n",
       "  'STR\\t3REMIRP GAT-----'],\n",
       " 'tag2primer2 + tag2primer3': ['SEQ\\tT G2PRIMER2-',\n",
       "  'SEQ\\t A          ',\n",
       "  'STR\\t 3          ',\n",
       "  'STR\\t  REMIRP2GAT'],\n",
       " 'tag1primer3 + tag1primer3': ['SEQ\\t     TA  PRIMER3',\n",
       "  'SEQ\\t       G1       ',\n",
       "  'STR\\t       1G       ',\n",
       "  'STR\\t3REMIRP  AT-----'],\n",
       " 'tag1primer3 + tag2primer3': ['SEQ\\t     TAG PRIMER3',\n",
       "  'SEQ\\t        1       ',\n",
       "  'STR\\t        G       ',\n",
       "  'STR\\t3REMIRP2 AT-----'],\n",
       " 'tag2primer3 + tag2primer3': ['SEQ\\tT G2PRIMER3-',\n",
       "  'SEQ\\t A          ',\n",
       "  'STR\\t 3          ',\n",
       "  'STR\\t  REMIRP2GAT']}"
      ]
     },
     "execution_count": 205,
     "metadata": {},
     "output_type": "execute_result"
    }
   ],
   "source": [
    "DimerStrucs"
   ]
  },
  {
   "cell_type": "code",
   "execution_count": 206,
   "id": "8113c906",
   "metadata": {},
   "outputs": [
    {
     "data": {
      "text/plain": [
       "{'tag1primer1 + tag1primer1': False,\n",
       " 'tag1primer1 + tag2primer1': False,\n",
       " 'tag1primer1 + tag1primer2': False,\n",
       " 'tag1primer1 + tag2primer2': False,\n",
       " 'tag1primer1 + tag1primer3': False,\n",
       " 'tag1primer1 + tag2primer3': False,\n",
       " 'tag2primer1 + tag2primer1': False,\n",
       " 'tag2primer1 + tag1primer2': False,\n",
       " 'tag2primer1 + tag2primer2': False,\n",
       " 'tag2primer1 + tag1primer3': False,\n",
       " 'tag2primer1 + tag2primer3': False,\n",
       " 'tag1primer2 + tag1primer2': False,\n",
       " 'tag1primer2 + tag2primer2': False,\n",
       " 'tag1primer2 + tag1primer3': False,\n",
       " 'tag1primer2 + tag2primer3': False,\n",
       " 'tag2primer2 + tag2primer2': False,\n",
       " 'tag2primer2 + tag1primer3': False,\n",
       " 'tag2primer2 + tag2primer3': False,\n",
       " 'tag1primer3 + tag1primer3': False,\n",
       " 'tag1primer3 + tag2primer3': False,\n",
       " 'tag2primer3 + tag2primer3': False}"
      ]
     },
     "execution_count": 206,
     "metadata": {},
     "output_type": "execute_result"
    }
   ],
   "source": [
    "DimerStrucsCount"
   ]
  },
  {
   "cell_type": "code",
   "execution_count": 160,
   "id": "88597a5e",
   "metadata": {},
   "outputs": [
    {
     "data": {
      "text/plain": [
       "{'primer1': 'catgctcagtccagtccgtg',\n",
       " 'primer2': 'cgcgcgcgcgagcgta',\n",
       " 'primer3': 'atatacccta'}"
      ]
     },
     "execution_count": 160,
     "metadata": {},
     "output_type": "execute_result"
    }
   ],
   "source": [
    "primer"
   ]
  },
  {
   "cell_type": "code",
   "execution_count": 161,
   "id": "ac170698",
   "metadata": {},
   "outputs": [
    {
     "data": {
      "text/plain": [
       "{'tag1primer1': 'atcgatcgatcgcatgctcagtccagtccgtg',\n",
       " 'tag2primer1': 'cggccatcgagtacgatgtcatgctcagtccagtccgtg',\n",
       " 'tag1primer2': 'atcgatcgatcgcgcgcgcgcgagcgta',\n",
       " 'tag2primer2': 'cggccatcgagtacgatgtcgcgcgcgcgagcgta',\n",
       " 'tag1primer3': 'atcgatcgatcgatatacccta',\n",
       " 'tag2primer3': 'cggccatcgagtacgatgtatatacccta'}"
      ]
     },
     "execution_count": 161,
     "metadata": {},
     "output_type": "execute_result"
    }
   ],
   "source": [
    "z"
   ]
  },
  {
   "cell_type": "code",
   "execution_count": 162,
   "id": "e9164160",
   "metadata": {},
   "outputs": [
    {
     "data": {
      "text/plain": [
       "{'tag1primer1': 72.31455120768032,\n",
       " 'tag2primer1': 76.07918759122879,\n",
       " 'tag1primer2': 77.02100124719499,\n",
       " 'tag2primer2': 80.15064530555281,\n",
       " 'tag1primer3': 55.41413171656001,\n",
       " 'tag2primer3': 64.95530650906062}"
      ]
     },
     "execution_count": 162,
     "metadata": {},
     "output_type": "execute_result"
    }
   ],
   "source": [
    "TmDict"
   ]
  },
  {
   "cell_type": "code",
   "execution_count": 163,
   "id": "b5cd654b",
   "metadata": {},
   "outputs": [
    {
     "data": {
      "text/plain": [
       "{'tag1primer1': 0,\n",
       " 'tag2primer1': 0,\n",
       " 'tag1primer2': 0,\n",
       " 'tag2primer2': 0,\n",
       " 'tag1primer3': 0,\n",
       " 'tag2primer3': 1}"
      ]
     },
     "execution_count": 163,
     "metadata": {},
     "output_type": "execute_result"
    }
   ],
   "source": [
    "TmDictVal"
   ]
  },
  {
   "cell_type": "code",
   "execution_count": 164,
   "id": "1b16c8c3",
   "metadata": {},
   "outputs": [
    {
     "data": {
      "text/plain": [
       "{'tag1primer1': True,\n",
       " 'tag2primer1': True,\n",
       " 'tag1primer2': True,\n",
       " 'tag2primer2': True,\n",
       " 'tag1primer3': True,\n",
       " 'tag2primer3': True}"
      ]
     },
     "execution_count": 164,
     "metadata": {},
     "output_type": "execute_result"
    }
   ],
   "source": [
    "HairpinDict"
   ]
  },
  {
   "cell_type": "code",
   "execution_count": 166,
   "id": "c6df4a51",
   "metadata": {},
   "outputs": [
    {
     "data": {
      "text/plain": [
       "{'tag1primer1': 0,\n",
       " 'tag2primer1': 0,\n",
       " 'tag1primer2': 0,\n",
       " 'tag2primer2': 0,\n",
       " 'tag1primer3': 0,\n",
       " 'tag2primer3': 0}"
      ]
     },
     "execution_count": 166,
     "metadata": {},
     "output_type": "execute_result"
    }
   ],
   "source": [
    "HairpinDictVal"
   ]
  },
  {
   "cell_type": "code",
   "execution_count": 190,
   "id": "0d6c4017",
   "metadata": {},
   "outputs": [
    {
     "data": {
      "text/plain": [
       "{'tag1primer1 + tag1primer1': True,\n",
       " 'tag1primer1 + tag2primer1': True,\n",
       " 'tag1primer1 + tag1primer2': True,\n",
       " 'tag1primer1 + tag2primer2': True,\n",
       " 'tag1primer1 + tag1primer3': True,\n",
       " 'tag1primer1 + tag2primer3': True,\n",
       " 'tag2primer1 + tag2primer1': True,\n",
       " 'tag2primer1 + tag1primer2': True,\n",
       " 'tag2primer1 + tag2primer2': True,\n",
       " 'tag2primer1 + tag1primer3': True,\n",
       " 'tag2primer1 + tag2primer3': True,\n",
       " 'tag1primer2 + tag1primer2': True,\n",
       " 'tag1primer2 + tag2primer2': True,\n",
       " 'tag1primer2 + tag1primer3': True,\n",
       " 'tag1primer2 + tag2primer3': True,\n",
       " 'tag2primer2 + tag2primer2': True,\n",
       " 'tag2primer2 + tag1primer3': True,\n",
       " 'tag2primer2 + tag2primer3': True,\n",
       " 'tag1primer3 + tag1primer3': True,\n",
       " 'tag1primer3 + tag2primer3': True,\n",
       " 'tag2primer3 + tag2primer3': True}"
      ]
     },
     "execution_count": 190,
     "metadata": {},
     "output_type": "execute_result"
    }
   ],
   "source": [
    "DimerDict"
   ]
  },
  {
   "cell_type": "code",
   "execution_count": 191,
   "id": "6d6ed3b4",
   "metadata": {},
   "outputs": [
    {
     "data": {
      "text/plain": [
       "{'tag1primer1 + tag1primer1': 0,\n",
       " 'tag1primer1 + tag2primer1': 0,\n",
       " 'tag1primer1 + tag1primer2': 0,\n",
       " 'tag1primer1 + tag2primer2': 0,\n",
       " 'tag1primer1 + tag1primer3': 0,\n",
       " 'tag1primer1 + tag2primer3': 0,\n",
       " 'tag2primer1 + tag2primer1': 0,\n",
       " 'tag2primer1 + tag1primer2': 0,\n",
       " 'tag2primer1 + tag2primer2': 0,\n",
       " 'tag2primer1 + tag1primer3': 0,\n",
       " 'tag2primer1 + tag2primer3': 0,\n",
       " 'tag1primer2 + tag1primer2': 0,\n",
       " 'tag1primer2 + tag2primer2': 0,\n",
       " 'tag1primer2 + tag1primer3': 0,\n",
       " 'tag1primer2 + tag2primer3': 0,\n",
       " 'tag2primer2 + tag2primer2': 0,\n",
       " 'tag2primer2 + tag1primer3': 0,\n",
       " 'tag2primer2 + tag2primer3': 0,\n",
       " 'tag1primer3 + tag1primer3': 0,\n",
       " 'tag1primer3 + tag2primer3': 0,\n",
       " 'tag2primer3 + tag2primer3': 0}"
      ]
     },
     "execution_count": 191,
     "metadata": {},
     "output_type": "execute_result"
    }
   ],
   "source": [
    "DimerDictVal"
   ]
  },
  {
   "cell_type": "code",
   "execution_count": 169,
   "id": "da26a6ad",
   "metadata": {},
   "outputs": [
    {
     "data": {
      "text/html": [
       "<div>\n",
       "<style scoped>\n",
       "    .dataframe tbody tr th:only-of-type {\n",
       "        vertical-align: middle;\n",
       "    }\n",
       "\n",
       "    .dataframe tbody tr th {\n",
       "        vertical-align: top;\n",
       "    }\n",
       "\n",
       "    .dataframe thead th {\n",
       "        text-align: right;\n",
       "    }\n",
       "</style>\n",
       "<table border=\"1\" class=\"dataframe\">\n",
       "  <thead>\n",
       "    <tr style=\"text-align: right;\">\n",
       "      <th></th>\n",
       "      <th>Tm</th>\n",
       "      <th>Sequence</th>\n",
       "      <th>Hairpin</th>\n",
       "      <th>Tm_Score</th>\n",
       "      <th>Hairpin_Score</th>\n",
       "      <th>Total</th>\n",
       "    </tr>\n",
       "  </thead>\n",
       "  <tbody>\n",
       "    <tr>\n",
       "      <th>tag1primer1</th>\n",
       "      <td>72.314551</td>\n",
       "      <td>atcgatcgatcgcatgctcagtccagtccgtg</td>\n",
       "      <td>True</td>\n",
       "      <td>0</td>\n",
       "      <td>0</td>\n",
       "      <td>0</td>\n",
       "    </tr>\n",
       "    <tr>\n",
       "      <th>tag2primer1</th>\n",
       "      <td>76.079188</td>\n",
       "      <td>cggccatcgagtacgatgtcatgctcagtccagtccgtg</td>\n",
       "      <td>True</td>\n",
       "      <td>0</td>\n",
       "      <td>0</td>\n",
       "      <td>0</td>\n",
       "    </tr>\n",
       "    <tr>\n",
       "      <th>tag1primer2</th>\n",
       "      <td>77.021001</td>\n",
       "      <td>atcgatcgatcgcgcgcgcgcgagcgta</td>\n",
       "      <td>True</td>\n",
       "      <td>0</td>\n",
       "      <td>0</td>\n",
       "      <td>0</td>\n",
       "    </tr>\n",
       "    <tr>\n",
       "      <th>tag2primer2</th>\n",
       "      <td>80.150645</td>\n",
       "      <td>cggccatcgagtacgatgtcgcgcgcgcgagcgta</td>\n",
       "      <td>True</td>\n",
       "      <td>0</td>\n",
       "      <td>0</td>\n",
       "      <td>0</td>\n",
       "    </tr>\n",
       "    <tr>\n",
       "      <th>tag1primer3</th>\n",
       "      <td>55.414132</td>\n",
       "      <td>atcgatcgatcgatatacccta</td>\n",
       "      <td>True</td>\n",
       "      <td>0</td>\n",
       "      <td>0</td>\n",
       "      <td>0</td>\n",
       "    </tr>\n",
       "    <tr>\n",
       "      <th>tag2primer3</th>\n",
       "      <td>64.955307</td>\n",
       "      <td>cggccatcgagtacgatgtatatacccta</td>\n",
       "      <td>True</td>\n",
       "      <td>1</td>\n",
       "      <td>0</td>\n",
       "      <td>1</td>\n",
       "    </tr>\n",
       "  </tbody>\n",
       "</table>\n",
       "</div>"
      ],
      "text/plain": [
       "                    Tm                                 Sequence  Hairpin  \\\n",
       "tag1primer1  72.314551         atcgatcgatcgcatgctcagtccagtccgtg     True   \n",
       "tag2primer1  76.079188  cggccatcgagtacgatgtcatgctcagtccagtccgtg     True   \n",
       "tag1primer2  77.021001             atcgatcgatcgcgcgcgcgcgagcgta     True   \n",
       "tag2primer2  80.150645      cggccatcgagtacgatgtcgcgcgcgcgagcgta     True   \n",
       "tag1primer3  55.414132                   atcgatcgatcgatatacccta     True   \n",
       "tag2primer3  64.955307            cggccatcgagtacgatgtatatacccta     True   \n",
       "\n",
       "             Tm_Score  Hairpin_Score  Total  \n",
       "tag1primer1         0              0      0  \n",
       "tag2primer1         0              0      0  \n",
       "tag1primer2         0              0      0  \n",
       "tag2primer2         0              0      0  \n",
       "tag1primer3         0              0      0  \n",
       "tag2primer3         1              0      1  "
      ]
     },
     "execution_count": 169,
     "metadata": {},
     "output_type": "execute_result"
    }
   ],
   "source": [
    "CompatibilityTable"
   ]
  },
  {
   "cell_type": "code",
   "execution_count": 213,
   "id": "6611cf1f",
   "metadata": {},
   "outputs": [
    {
     "data": {
      "text/html": [
       "<div>\n",
       "<style scoped>\n",
       "    .dataframe tbody tr th:only-of-type {\n",
       "        vertical-align: middle;\n",
       "    }\n",
       "\n",
       "    .dataframe tbody tr th {\n",
       "        vertical-align: top;\n",
       "    }\n",
       "\n",
       "    .dataframe thead th {\n",
       "        text-align: right;\n",
       "    }\n",
       "</style>\n",
       "<table border=\"1\" class=\"dataframe\">\n",
       "  <thead>\n",
       "    <tr style=\"text-align: right;\">\n",
       "      <th></th>\n",
       "      <th>Dimer</th>\n",
       "      <th>Greater_than_5_bases?</th>\n",
       "      <th>Dimer_Score</th>\n",
       "    </tr>\n",
       "  </thead>\n",
       "  <tbody>\n",
       "    <tr>\n",
       "      <th>tag1primer1 + tag1primer1</th>\n",
       "      <td>True</td>\n",
       "      <td>False</td>\n",
       "      <td>1</td>\n",
       "    </tr>\n",
       "    <tr>\n",
       "      <th>tag1primer1 + tag2primer1</th>\n",
       "      <td>True</td>\n",
       "      <td>False</td>\n",
       "      <td>1</td>\n",
       "    </tr>\n",
       "    <tr>\n",
       "      <th>tag1primer1 + tag1primer2</th>\n",
       "      <td>True</td>\n",
       "      <td>False</td>\n",
       "      <td>1</td>\n",
       "    </tr>\n",
       "    <tr>\n",
       "      <th>tag1primer1 + tag2primer2</th>\n",
       "      <td>True</td>\n",
       "      <td>False</td>\n",
       "      <td>1</td>\n",
       "    </tr>\n",
       "    <tr>\n",
       "      <th>tag1primer1 + tag1primer3</th>\n",
       "      <td>True</td>\n",
       "      <td>False</td>\n",
       "      <td>1</td>\n",
       "    </tr>\n",
       "    <tr>\n",
       "      <th>tag1primer1 + tag2primer3</th>\n",
       "      <td>True</td>\n",
       "      <td>False</td>\n",
       "      <td>1</td>\n",
       "    </tr>\n",
       "    <tr>\n",
       "      <th>tag2primer1 + tag2primer1</th>\n",
       "      <td>True</td>\n",
       "      <td>False</td>\n",
       "      <td>1</td>\n",
       "    </tr>\n",
       "    <tr>\n",
       "      <th>tag2primer1 + tag1primer2</th>\n",
       "      <td>True</td>\n",
       "      <td>False</td>\n",
       "      <td>1</td>\n",
       "    </tr>\n",
       "    <tr>\n",
       "      <th>tag2primer1 + tag2primer2</th>\n",
       "      <td>True</td>\n",
       "      <td>False</td>\n",
       "      <td>1</td>\n",
       "    </tr>\n",
       "    <tr>\n",
       "      <th>tag2primer1 + tag1primer3</th>\n",
       "      <td>True</td>\n",
       "      <td>False</td>\n",
       "      <td>1</td>\n",
       "    </tr>\n",
       "    <tr>\n",
       "      <th>tag2primer1 + tag2primer3</th>\n",
       "      <td>True</td>\n",
       "      <td>False</td>\n",
       "      <td>1</td>\n",
       "    </tr>\n",
       "    <tr>\n",
       "      <th>tag1primer2 + tag1primer2</th>\n",
       "      <td>True</td>\n",
       "      <td>False</td>\n",
       "      <td>1</td>\n",
       "    </tr>\n",
       "    <tr>\n",
       "      <th>tag1primer2 + tag2primer2</th>\n",
       "      <td>True</td>\n",
       "      <td>False</td>\n",
       "      <td>1</td>\n",
       "    </tr>\n",
       "    <tr>\n",
       "      <th>tag1primer2 + tag1primer3</th>\n",
       "      <td>True</td>\n",
       "      <td>False</td>\n",
       "      <td>1</td>\n",
       "    </tr>\n",
       "    <tr>\n",
       "      <th>tag1primer2 + tag2primer3</th>\n",
       "      <td>True</td>\n",
       "      <td>False</td>\n",
       "      <td>1</td>\n",
       "    </tr>\n",
       "    <tr>\n",
       "      <th>tag2primer2 + tag2primer2</th>\n",
       "      <td>True</td>\n",
       "      <td>False</td>\n",
       "      <td>1</td>\n",
       "    </tr>\n",
       "    <tr>\n",
       "      <th>tag2primer2 + tag1primer3</th>\n",
       "      <td>True</td>\n",
       "      <td>False</td>\n",
       "      <td>1</td>\n",
       "    </tr>\n",
       "    <tr>\n",
       "      <th>tag2primer2 + tag2primer3</th>\n",
       "      <td>True</td>\n",
       "      <td>False</td>\n",
       "      <td>1</td>\n",
       "    </tr>\n",
       "    <tr>\n",
       "      <th>tag1primer3 + tag1primer3</th>\n",
       "      <td>True</td>\n",
       "      <td>False</td>\n",
       "      <td>1</td>\n",
       "    </tr>\n",
       "    <tr>\n",
       "      <th>tag1primer3 + tag2primer3</th>\n",
       "      <td>True</td>\n",
       "      <td>False</td>\n",
       "      <td>1</td>\n",
       "    </tr>\n",
       "    <tr>\n",
       "      <th>tag2primer3 + tag2primer3</th>\n",
       "      <td>True</td>\n",
       "      <td>False</td>\n",
       "      <td>1</td>\n",
       "    </tr>\n",
       "  </tbody>\n",
       "</table>\n",
       "</div>"
      ],
      "text/plain": [
       "                           Dimer  Greater_than_5_bases?  Dimer_Score\n",
       "tag1primer1 + tag1primer1   True                  False            1\n",
       "tag1primer1 + tag2primer1   True                  False            1\n",
       "tag1primer1 + tag1primer2   True                  False            1\n",
       "tag1primer1 + tag2primer2   True                  False            1\n",
       "tag1primer1 + tag1primer3   True                  False            1\n",
       "tag1primer1 + tag2primer3   True                  False            1\n",
       "tag2primer1 + tag2primer1   True                  False            1\n",
       "tag2primer1 + tag1primer2   True                  False            1\n",
       "tag2primer1 + tag2primer2   True                  False            1\n",
       "tag2primer1 + tag1primer3   True                  False            1\n",
       "tag2primer1 + tag2primer3   True                  False            1\n",
       "tag1primer2 + tag1primer2   True                  False            1\n",
       "tag1primer2 + tag2primer2   True                  False            1\n",
       "tag1primer2 + tag1primer3   True                  False            1\n",
       "tag1primer2 + tag2primer3   True                  False            1\n",
       "tag2primer2 + tag2primer2   True                  False            1\n",
       "tag2primer2 + tag1primer3   True                  False            1\n",
       "tag2primer2 + tag2primer3   True                  False            1\n",
       "tag1primer3 + tag1primer3   True                  False            1\n",
       "tag1primer3 + tag2primer3   True                  False            1\n",
       "tag2primer3 + tag2primer3   True                  False            1"
      ]
     },
     "execution_count": 213,
     "metadata": {},
     "output_type": "execute_result"
    }
   ],
   "source": [
    "DimerTable"
   ]
  },
  {
   "cell_type": "code",
   "execution_count": null,
   "id": "546d9f9f",
   "metadata": {},
   "outputs": [],
   "source": []
  },
  {
   "cell_type": "code",
   "execution_count": null,
   "id": "98bd3d15",
   "metadata": {},
   "outputs": [],
   "source": []
  }
 ],
 "metadata": {
  "kernelspec": {
   "display_name": "Python 3 (ipykernel)",
   "language": "python",
   "name": "python3"
  },
  "language_info": {
   "codemirror_mode": {
    "name": "ipython",
    "version": 3
   },
   "file_extension": ".py",
   "mimetype": "text/x-python",
   "name": "python",
   "nbconvert_exporter": "python",
   "pygments_lexer": "ipython3",
   "version": "3.9.13"
  }
 },
 "nbformat": 4,
 "nbformat_minor": 5
}
